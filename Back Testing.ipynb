{
 "cells": [
  {
   "cell_type": "code",
   "execution_count": 24,
   "metadata": {},
   "outputs": [
    {
     "name": "stdout",
     "output_type": "stream",
     "text": [
      "Enter your WRDS username [hzhang]:hanyuzhang\n",
      "Enter your password:········\n",
      "WRDS recommends setting up a .pgpass file.\n",
      "You can find more info here:\n",
      "https://www.postgresql.org/docs/9.5/static/libpq-pgpass.html.\n",
      "Loading library list...\n",
      "Done\n"
     ]
    }
   ],
   "source": [
    "# Login\n",
    "import wrds\n",
    "db = wrds.Connection(wrds_username=\"hanyuzhang\")\n",
    "# password is Timeseries2020!"
   ]
  },
  {
   "cell_type": "code",
   "execution_count": 31,
   "metadata": {},
   "outputs": [
    {
     "name": "stdout",
     "output_type": "stream",
     "text": [
      "wrds doesn't have data for RTX, skip...\n"
     ]
    }
   ],
   "source": [
    "# Preprocess Data\n",
    "import pandas as pd\n",
    "sym_df = pd.read_csv(\"Ticker.csv\", header=0)\n",
    "sym_list = sym_df[\"Ticker\"].tolist()\n",
    "sym_permno_list = list()\n",
    "for symbol in sym_list:\n",
    "    if len(symbol) == 0:\n",
    "        continue\n",
    "    result = db.raw_sql(f\"\"\"select permno, htsymbol \n",
    "                           from crsp.dsfhdr \n",
    "                           where htsymbol = '{symbol}'\"\"\")\n",
    "    try:\n",
    "        sym_permno_list.append((result.iloc[0]['permno'], result.iloc[0]['htsymbol']))\n",
    "    except:\n",
    "        print(f\"wrds doesn't have data for {symbol} right now, skip...\")"
   ]
  },
  {
   "cell_type": "code",
   "execution_count": 46,
   "metadata": {},
   "outputs": [],
   "source": [
    "from collections import defaultdict\n",
    "timeseries_bank = defaultdict(list)\n",
    "for permno, symbol in sym_permno_list:\n",
    "    result = db.raw_sql(f\"\"\"select date, prc, cfacpr\n",
    "                            from crsp.dsf\n",
    "                            where permno = {permno} and date > '2010-01-01'\n",
    "                         \"\"\")\n",
    "    ts = zip(result[\"date\"].tolist(), (result[\"prc\"]/result[\"cfacpr\"]).tolist())\n",
    "    timeseries_bank[symbol] = ts  "
   ]
  },
  {
   "cell_type": "code",
   "execution_count": 47,
   "metadata": {},
   "outputs": [],
   "source": [
    "# Build pairs\n",
    "sym_pairs = list()\n",
    "sym_pairs_ts = dict()\n",
    "valid_sym_list = list(timeseries_bank.keys())\n",
    "for i in range(len(valid_sym_list)-1):\n",
    "    for j in range(i+1, len(valid_sym_list)):\n",
    "        sym_pairs.append((valid_sym_list[i], valid_sym_list[j]))\n",
    "for pair in sym_pairs:\n",
    "    sym_pairs_ts[pair] = {\"first\":timeseries_bank[pair[0]], \"second\":timeseries_bank[pair[1]]}\n",
    "    \n",
    "# sym_paris_ts is the pair timeseries:\n",
    "# {(sym1, sym2):{'first':[(datetime.date(2010,1,1),price1), (datetime.date(2010,1,2):price2), ...}, \"second\":[...]}}"
   ]
  },
  {
   "cell_type": "code",
   "execution_count": null,
   "metadata": {},
   "outputs": [],
   "source": []
  }
 ],
 "metadata": {
  "kernelspec": {
   "display_name": "Python 3",
   "language": "python",
   "name": "python3"
  },
  "language_info": {
   "codemirror_mode": {
    "name": "ipython",
    "version": 3
   },
   "file_extension": ".py",
   "mimetype": "text/x-python",
   "name": "python",
   "nbconvert_exporter": "python",
   "pygments_lexer": "ipython3",
   "version": "3.7.7"
  }
 },
 "nbformat": 4,
 "nbformat_minor": 4
}
